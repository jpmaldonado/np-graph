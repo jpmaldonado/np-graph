{
 "cells": [
  {
   "cell_type": "code",
   "execution_count": 16,
   "metadata": {},
   "outputs": [],
   "source": [
    "from neo4j import GraphDatabase"
   ]
  },
  {
   "cell_type": "code",
   "execution_count": 17,
   "metadata": {},
   "outputs": [],
   "source": [
    "host = '34.89.161.25'"
   ]
  },
  {
   "cell_type": "code",
   "execution_count": 18,
   "metadata": {},
   "outputs": [],
   "source": [
    "gdb = GraphDatabase.driver(\"bolt://{}:7687\".format(host), auth=(\"neo4j\", \"nobleprog\"))"
   ]
  },
  {
   "cell_type": "code",
   "execution_count": null,
   "metadata": {},
   "outputs": [],
   "source": [
    "## NUCLEAR OPTION:\n",
    "# # To Delete All Relationships (Must Be Done Before Deleting Nodes)\n",
    "# session.run(\"START n = node(*) MATCH n-[r]-() DELETE r\")\n",
    "\n",
    "# # To Delete All Nodes\n",
    "# session.run(\"START n = node(*) MATCH n DELETE n\")\n",
    "\n",
    "# To Delete All Nodes & Relationships Simultaneously\n",
    "#session.run(\"MATCH (n) OPTIONAL MATCH (n)-[r]-() DELETE n, r\")"
   ]
  },
  {
   "cell_type": "code",
   "execution_count": 19,
   "metadata": {},
   "outputs": [],
   "source": [
    "session = gdb.session()"
   ]
  },
  {
   "cell_type": "code",
   "execution_count": 20,
   "metadata": {},
   "outputs": [
    {
     "data": {
      "text/plain": [
       "<neo4j.BoltStatementResult at 0x19013b66cd0>"
      ]
     },
     "execution_count": 20,
     "metadata": {},
     "output_type": "execute_result"
    }
   ],
   "source": [
    "# Create Five Nodes\n",
    "createNodes = \"CREATE \\\n",
    "(Arthur:    Person {fullName: 'Artorius Pendragon',   title: 'King',    age: 37,  influence: 1.00, lovesSpam: true}), \\\n",
    "(Guinevere: Person {fullName: 'Gwythyr ap Greidawl',  title: 'Queen',   age: 32,  influence: 0.75, lovesSpam: true}), \\\n",
    "(Lancelot:  Person {fullName: 'Lancelot du Lac',      title: 'Knight',  age: 29,  influence: 0.25, lovesSpam: false}), \\\n",
    "(Merlin:    Person {fullName: 'Myrddin Wyllt',        title: 'Wizard',  age: 68,  influence: 0.50, lovesSpam: true})\"\n",
    "session.run(createNodes)"
   ]
  },
  {
   "cell_type": "code",
   "execution_count": 21,
   "metadata": {},
   "outputs": [],
   "source": [
    "# Query The Four Generated Nodes\n",
    "matchNodes = \"MATCH (Person) RETURN Person.fullName AS name, Person.title AS title, Person.lovesSpam AS spam\"\n",
    "records = session.run(matchNodes)"
   ]
  },
  {
   "cell_type": "code",
   "execution_count": 23,
   "metadata": {},
   "outputs": [
    {
     "name": "stdout",
     "output_type": "stream",
     "text": [
      "A Legendary (kinda) Haiku of Yore\n",
      "\n",
      "Artorius Pendragon was a legendary king that loved spam\n",
      "Gwythyr ap Greidawl was a legendary queen that loved spam\n",
      "Little Lancelot du Lac was a legendary knight that had a very testy relationship with spam\n",
      "Myrddin Wyllt was a legendary wizard that loved spam\n"
     ]
    }
   ],
   "source": [
    "# Print Results\n",
    "print(\"A Legendary (kinda) Haiku of Yore\\n\")\n",
    "for record in records:\n",
    "    if record[\"spam\"]:\n",
    "        print(\"%s was a legendary %s that loved spam\" % (record[\"name\"], record[\"title\"].lower()))\n",
    "    else:\n",
    "        print(\"Little %s was a legendary %s that had a very testy relationship with spam\" % (record[\"name\"], record[\"title\"].lower()))"
   ]
  },
  {
   "cell_type": "code",
   "execution_count": null,
   "metadata": {},
   "outputs": [],
   "source": []
  }
 ],
 "metadata": {
  "kernelspec": {
   "display_name": "Python 3",
   "language": "python",
   "name": "python3"
  },
  "language_info": {
   "codemirror_mode": {
    "name": "ipython",
    "version": 3
   },
   "file_extension": ".py",
   "mimetype": "text/x-python",
   "name": "python",
   "nbconvert_exporter": "python",
   "pygments_lexer": "ipython3",
   "version": "3.8.2"
  }
 },
 "nbformat": 4,
 "nbformat_minor": 4
}
