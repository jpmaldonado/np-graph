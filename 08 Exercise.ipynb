{
 "cells": [
  {
   "cell_type": "markdown",
   "metadata": {},
   "source": [
    "# Exercise\n",
    "\n",
    "On the `karate` network in NetworkX, find:\n",
    "\n",
    "- All shortest paths between the trainer and the manager (nodes 0 and 33).\n",
    "- Calculate the average path length.\n",
    "- Find the most connected nodes, as per the betweeness and eigenvector criteria.\n",
    "- The `diameter` is the largest path length. What is the diameter in the `karate` network? \n",
    "- Compare the average path length and diameter with the internet topology zoo network (internet point of presence network)."
   ]
  },
  {
   "cell_type": "code",
   "execution_count": 1,
   "metadata": {},
   "outputs": [],
   "source": [
    "import networkx as nx\n",
    "G_internet = nx.read_graphml('./data/UAITZ/Geant2012.graphml')"
   ]
  },
  {
   "cell_type": "code",
   "execution_count": null,
   "metadata": {},
   "outputs": [],
   "source": []
  }
 ],
 "metadata": {
  "kernelspec": {
   "display_name": "Python 3",
   "language": "python",
   "name": "python3"
  },
  "language_info": {
   "codemirror_mode": {
    "name": "ipython",
    "version": 3
   },
   "file_extension": ".py",
   "mimetype": "text/x-python",
   "name": "python",
   "nbconvert_exporter": "python",
   "pygments_lexer": "ipython3",
   "version": "3.7.5rc1"
  }
 },
 "nbformat": 4,
 "nbformat_minor": 4
}
